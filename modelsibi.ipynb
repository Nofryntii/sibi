{
  "cells": [
    {
      "cell_type": "code",
      "execution_count": null,
      "metadata": {
        "colab": {
          "base_uri": "https://localhost:8080/"
        },
        "collapsed": true,
        "id": "my99xS8jqnq2",
        "outputId": "1cfbd0ca-0c59-44e7-b20d-6b8938ca82a3"
      },
      "outputs": [
        {
          "name": "stdout",
          "output_type": "stream",
          "text": [
            "Collecting mediapipe\n",
            "  Downloading mediapipe-0.10.15-cp310-cp310-manylinux_2_17_x86_64.manylinux2014_x86_64.whl.metadata (9.7 kB)\n",
            "Requirement already satisfied: absl-py in /usr/local/lib/python3.10/dist-packages (from mediapipe) (1.4.0)\n",
            "Requirement already satisfied: attrs>=19.1.0 in /usr/local/lib/python3.10/dist-packages (from mediapipe) (24.2.0)\n",
            "Requirement already satisfied: flatbuffers>=2.0 in /usr/local/lib/python3.10/dist-packages (from mediapipe) (24.3.25)\n",
            "Requirement already satisfied: jax in /usr/local/lib/python3.10/dist-packages (from mediapipe) (0.4.33)\n",
            "Requirement already satisfied: jaxlib in /usr/local/lib/python3.10/dist-packages (from mediapipe) (0.4.33)\n",
            "Requirement already satisfied: matplotlib in /usr/local/lib/python3.10/dist-packages (from mediapipe) (3.7.1)\n",
            "Requirement already satisfied: numpy<2 in /usr/local/lib/python3.10/dist-packages (from mediapipe) (1.26.4)\n",
            "Requirement already satisfied: opencv-contrib-python in /usr/local/lib/python3.10/dist-packages (from mediapipe) (4.10.0.84)\n",
            "Collecting protobuf<5,>=4.25.3 (from mediapipe)\n",
            "  Downloading protobuf-4.25.5-cp37-abi3-manylinux2014_x86_64.whl.metadata (541 bytes)\n",
            "Collecting sounddevice>=0.4.4 (from mediapipe)\n",
            "  Downloading sounddevice-0.5.1-py3-none-any.whl.metadata (1.4 kB)\n",
            "Requirement already satisfied: CFFI>=1.0 in /usr/local/lib/python3.10/dist-packages (from sounddevice>=0.4.4->mediapipe) (1.17.1)\n",
            "Requirement already satisfied: ml-dtypes>=0.2.0 in /usr/local/lib/python3.10/dist-packages (from jax->mediapipe) (0.4.1)\n",
            "Requirement already satisfied: opt-einsum in /usr/local/lib/python3.10/dist-packages (from jax->mediapipe) (3.4.0)\n",
            "Requirement already satisfied: scipy>=1.10 in /usr/local/lib/python3.10/dist-packages (from jax->mediapipe) (1.13.1)\n",
            "Requirement already satisfied: contourpy>=1.0.1 in /usr/local/lib/python3.10/dist-packages (from matplotlib->mediapipe) (1.3.0)\n",
            "Requirement already satisfied: cycler>=0.10 in /usr/local/lib/python3.10/dist-packages (from matplotlib->mediapipe) (0.12.1)\n",
            "Requirement already satisfied: fonttools>=4.22.0 in /usr/local/lib/python3.10/dist-packages (from matplotlib->mediapipe) (4.54.1)\n",
            "Requirement already satisfied: kiwisolver>=1.0.1 in /usr/local/lib/python3.10/dist-packages (from matplotlib->mediapipe) (1.4.7)\n",
            "Requirement already satisfied: packaging>=20.0 in /usr/local/lib/python3.10/dist-packages (from matplotlib->mediapipe) (24.1)\n",
            "Requirement already satisfied: pillow>=6.2.0 in /usr/local/lib/python3.10/dist-packages (from matplotlib->mediapipe) (10.4.0)\n",
            "Requirement already satisfied: pyparsing>=2.3.1 in /usr/local/lib/python3.10/dist-packages (from matplotlib->mediapipe) (3.2.0)\n",
            "Requirement already satisfied: python-dateutil>=2.7 in /usr/local/lib/python3.10/dist-packages (from matplotlib->mediapipe) (2.8.2)\n",
            "Requirement already satisfied: pycparser in /usr/local/lib/python3.10/dist-packages (from CFFI>=1.0->sounddevice>=0.4.4->mediapipe) (2.22)\n",
            "Requirement already satisfied: six>=1.5 in /usr/local/lib/python3.10/dist-packages (from python-dateutil>=2.7->matplotlib->mediapipe) (1.16.0)\n",
            "Downloading mediapipe-0.10.15-cp310-cp310-manylinux_2_17_x86_64.manylinux2014_x86_64.whl (35.9 MB)\n",
            "\u001b[2K   \u001b[90m━━━━━━━━━━━━━━━━━━━━━━━━━━━━━━━━━━━━━━━━\u001b[0m \u001b[32m35.9/35.9 MB\u001b[0m \u001b[31m14.1 MB/s\u001b[0m eta \u001b[36m0:00:00\u001b[0m\n",
            "\u001b[?25hDownloading protobuf-4.25.5-cp37-abi3-manylinux2014_x86_64.whl (294 kB)\n",
            "\u001b[2K   \u001b[90m━━━━━━━━━━━━━━━━━━━━━━━━━━━━━━━━━━━━━━━━\u001b[0m \u001b[32m294.6/294.6 kB\u001b[0m \u001b[31m11.1 MB/s\u001b[0m eta \u001b[36m0:00:00\u001b[0m\n",
            "\u001b[?25hDownloading sounddevice-0.5.1-py3-none-any.whl (32 kB)\n",
            "Installing collected packages: protobuf, sounddevice, mediapipe\n",
            "  Attempting uninstall: protobuf\n",
            "    Found existing installation: protobuf 3.20.3\n",
            "    Uninstalling protobuf-3.20.3:\n",
            "      Successfully uninstalled protobuf-3.20.3\n",
            "\u001b[31mERROR: pip's dependency resolver does not currently take into account all the packages that are installed. This behaviour is the source of the following dependency conflicts.\n",
            "tensorflow-metadata 1.16.1 requires protobuf<4.21,>=3.20.3; python_version < \"3.11\", but you have protobuf 4.25.5 which is incompatible.\u001b[0m\u001b[31m\n",
            "\u001b[0mSuccessfully installed mediapipe-0.10.15 protobuf-4.25.5 sounddevice-0.5.1\n"
          ]
        }
      ],
      "source": [
        "pip install mediapipe"
      ]
    },
    {
      "cell_type": "code",
      "execution_count": null,
      "metadata": {
        "colab": {
          "base_uri": "https://localhost:8080/"
        },
        "collapsed": true,
        "id": "72zYcguwrjWw",
        "outputId": "87db8e44-25d8-4b6e-d48e-242e6be7768d"
      },
      "outputs": [
        {
          "name": "stdout",
          "output_type": "stream",
          "text": [
            "\u001b[?25l     \u001b[90m━━━━━━━━━━━━━━━━━━━━━━━━━━━━━━━━━━━━━━━━\u001b[0m \u001b[32m0.0/51.8 kB\u001b[0m \u001b[31m?\u001b[0m eta \u001b[36m-:--:--\u001b[0m\r\u001b[2K     \u001b[90m━━━━━━━━━━━━━━━━━━━━━━━━━━━━━━━━━━━━━━━━\u001b[0m \u001b[32m51.8/51.8 kB\u001b[0m \u001b[31m3.8 MB/s\u001b[0m eta \u001b[36m0:00:00\u001b[0m\n",
            "\u001b[?25h\u001b[?25l     \u001b[90m━━━━━━━━━━━━━━━━━━━━━━━━━━━━━━━━━━━━━━━━\u001b[0m \u001b[32m0.0/43.6 kB\u001b[0m \u001b[31m?\u001b[0m eta \u001b[36m-:--:--\u001b[0m\r\u001b[2K     \u001b[90m━━━━━━━━━━━━━━━━━━━━━━━━━━━━━━━━━━━━━━━━\u001b[0m \u001b[32m43.6/43.6 kB\u001b[0m \u001b[31m3.4 MB/s\u001b[0m eta \u001b[36m0:00:00\u001b[0m\n",
            "\u001b[?25h  Preparing metadata (setup.py) ... \u001b[?25l\u001b[?25hdone\n",
            "\u001b[2K   \u001b[90m━━━━━━━━━━━━━━━━━━━━━━━━━━━━━━━━━━━━━━━━\u001b[0m \u001b[32m133.3/133.3 kB\u001b[0m \u001b[31m10.7 MB/s\u001b[0m eta \u001b[36m0:00:00\u001b[0m\n",
            "\u001b[2K   \u001b[90m━━━━━━━━━━━━━━━━━━━━━━━━━━━━━━━━━━━━━━━━\u001b[0m \u001b[32m475.2/475.2 MB\u001b[0m \u001b[31m3.5 MB/s\u001b[0m eta \u001b[36m0:00:00\u001b[0m\n",
            "\u001b[2K   \u001b[90m━━━━━━━━━━━━━━━━━━━━━━━━━━━━━━━━━━━━━━━━\u001b[0m \u001b[32m241.2/241.2 kB\u001b[0m \u001b[31m15.0 MB/s\u001b[0m eta \u001b[36m0:00:00\u001b[0m\n",
            "\u001b[2K   \u001b[90m━━━━━━━━━━━━━━━━━━━━━━━━━━━━━━━━━━━━━━━━\u001b[0m \u001b[32m2.7/2.7 MB\u001b[0m \u001b[31m53.1 MB/s\u001b[0m eta \u001b[36m0:00:00\u001b[0m\n",
            "\u001b[2K   \u001b[90m━━━━━━━━━━━━━━━━━━━━━━━━━━━━━━━━━━━━━━━━\u001b[0m \u001b[32m5.2/5.2 MB\u001b[0m \u001b[31m68.0 MB/s\u001b[0m eta \u001b[36m0:00:00\u001b[0m\n",
            "\u001b[2K   \u001b[90m━━━━━━━━━━━━━━━━━━━━━━━━━━━━━━━━━━━━━━━━\u001b[0m \u001b[32m611.8/611.8 kB\u001b[0m \u001b[31m29.5 MB/s\u001b[0m eta \u001b[36m0:00:00\u001b[0m\n",
            "\u001b[2K   \u001b[90m━━━━━━━━━━━━━━━━━━━━━━━━━━━━━━━━━━━━━━━━\u001b[0m \u001b[32m1.7/1.7 MB\u001b[0m \u001b[31m50.4 MB/s\u001b[0m eta \u001b[36m0:00:00\u001b[0m\n",
            "\u001b[2K   \u001b[90m━━━━━━━━━━━━━━━━━━━━━━━━━━━━━━━━━━━━━━━━\u001b[0m \u001b[32m2.2/2.2 MB\u001b[0m \u001b[31m56.1 MB/s\u001b[0m eta \u001b[36m0:00:00\u001b[0m\n",
            "\u001b[2K   \u001b[90m━━━━━━━━━━━━━━━━━━━━━━━━━━━━━━━━━━━━━━━━\u001b[0m \u001b[32m5.5/5.5 MB\u001b[0m \u001b[31m70.1 MB/s\u001b[0m eta \u001b[36m0:00:00\u001b[0m\n",
            "\u001b[2K   \u001b[90m━━━━━━━━━━━━━━━━━━━━━━━━━━━━━━━━━━━━━━━━\u001b[0m \u001b[32m442.0/442.0 kB\u001b[0m \u001b[31m26.3 MB/s\u001b[0m eta \u001b[36m0:00:00\u001b[0m\n",
            "\u001b[2K   \u001b[90m━━━━━━━━━━━━━━━━━━━━━━━━━━━━━━━━━━━━━━━━\u001b[0m \u001b[32m1.7/1.7 MB\u001b[0m \u001b[31m53.5 MB/s\u001b[0m eta \u001b[36m0:00:00\u001b[0m\n",
            "\u001b[2K   \u001b[90m━━━━━━━━━━━━━━━━━━━━━━━━━━━━━━━━━━━━━━━━\u001b[0m \u001b[32m77.9/77.9 kB\u001b[0m \u001b[31m6.6 MB/s\u001b[0m eta \u001b[36m0:00:00\u001b[0m\n",
            "\u001b[2K   \u001b[90m━━━━━━━━━━━━━━━━━━━━━━━━━━━━━━━━━━━━━━━━\u001b[0m \u001b[32m104.0/104.0 kB\u001b[0m \u001b[31m8.9 MB/s\u001b[0m eta \u001b[36m0:00:00\u001b[0m\n",
            "\u001b[?25h  Building wheel for seqeval (setup.py) ... \u001b[?25l\u001b[?25hdone\n",
            "\u001b[31mERROR: pip's dependency resolver does not currently take into account all the packages that are installed. This behaviour is the source of the following dependency conflicts.\n",
            "inflect 7.4.0 requires typeguard>=4.0.1, but you have typeguard 2.13.3 which is incompatible.\u001b[0m\u001b[31m\n",
            "\u001b[0m"
          ]
        }
      ],
      "source": [
        "!pip install -q mediapipe-model-maker"
      ]
    },
    {
      "cell_type": "code",
      "execution_count": null,
      "metadata": {
        "colab": {
          "base_uri": "https://localhost:8080/"
        },
        "collapsed": true,
        "id": "VfwerMRssLgv",
        "outputId": "aa2cd905-63f4-42fa-b4a3-2249cfc00ace"
      },
      "outputs": [
        {
          "name": "stderr",
          "output_type": "stream",
          "text": [
            "/usr/local/lib/python3.10/dist-packages/tensorflow_addons/utils/tfa_eol_msg.py:23: UserWarning: \n",
            "\n",
            "TensorFlow Addons (TFA) has ended development and introduction of new features.\n",
            "TFA has entered a minimal maintenance and release mode until a planned end of life in May 2024.\n",
            "Please modify downstream libraries to take dependencies from other repositories in our TensorFlow community (e.g. Keras, Keras-CV, and Keras-NLP). \n",
            "\n",
            "For more information see: https://github.com/tensorflow/addons/issues/2807 \n",
            "\n",
            "  warnings.warn(\n"
          ]
        }
      ],
      "source": [
        "# Import the necessary modules.\n",
        "from mediapipe_model_maker import gesture_recognizer"
      ]
    },
    {
      "cell_type": "code",
      "execution_count": null,
      "metadata": {
        "colab": {
          "background_save": true
        },
        "id": "w2tRUrsCxhdn",
        "outputId": "b16e5a31-ce58-4cb5-dbc1-f9587a3e6c47"
      },
      "outputs": [
        {
          "ename": "MessageError",
          "evalue": "Error: credential propagation was unsuccessful",
          "output_type": "error",
          "traceback": [
            "\u001b[0;31m---------------------------------------------------------------------------\u001b[0m",
            "\u001b[0;31mMessageError\u001b[0m                              Traceback (most recent call last)",
            "\u001b[0;32m<ipython-input-1-d5df0069828e>\u001b[0m in \u001b[0;36m<cell line: 2>\u001b[0;34m()\u001b[0m\n\u001b[1;32m      1\u001b[0m \u001b[0;32mfrom\u001b[0m \u001b[0mgoogle\u001b[0m\u001b[0;34m.\u001b[0m\u001b[0mcolab\u001b[0m \u001b[0;32mimport\u001b[0m \u001b[0mdrive\u001b[0m\u001b[0;34m\u001b[0m\u001b[0;34m\u001b[0m\u001b[0m\n\u001b[0;32m----> 2\u001b[0;31m \u001b[0mdrive\u001b[0m\u001b[0;34m.\u001b[0m\u001b[0mmount\u001b[0m\u001b[0;34m(\u001b[0m\u001b[0;34m'/content/drive'\u001b[0m\u001b[0;34m)\u001b[0m\u001b[0;34m\u001b[0m\u001b[0;34m\u001b[0m\u001b[0m\n\u001b[0m",
            "\u001b[0;32m/usr/local/lib/python3.10/dist-packages/google/colab/drive.py\u001b[0m in \u001b[0;36mmount\u001b[0;34m(mountpoint, force_remount, timeout_ms, readonly)\u001b[0m\n\u001b[1;32m     98\u001b[0m \u001b[0;32mdef\u001b[0m \u001b[0mmount\u001b[0m\u001b[0;34m(\u001b[0m\u001b[0mmountpoint\u001b[0m\u001b[0;34m,\u001b[0m \u001b[0mforce_remount\u001b[0m\u001b[0;34m=\u001b[0m\u001b[0;32mFalse\u001b[0m\u001b[0;34m,\u001b[0m \u001b[0mtimeout_ms\u001b[0m\u001b[0;34m=\u001b[0m\u001b[0;36m120000\u001b[0m\u001b[0;34m,\u001b[0m \u001b[0mreadonly\u001b[0m\u001b[0;34m=\u001b[0m\u001b[0;32mFalse\u001b[0m\u001b[0;34m)\u001b[0m\u001b[0;34m:\u001b[0m\u001b[0;34m\u001b[0m\u001b[0;34m\u001b[0m\u001b[0m\n\u001b[1;32m     99\u001b[0m   \u001b[0;34m\"\"\"Mount your Google Drive at the specified mountpoint path.\"\"\"\u001b[0m\u001b[0;34m\u001b[0m\u001b[0;34m\u001b[0m\u001b[0m\n\u001b[0;32m--> 100\u001b[0;31m   return _mount(\n\u001b[0m\u001b[1;32m    101\u001b[0m       \u001b[0mmountpoint\u001b[0m\u001b[0;34m,\u001b[0m\u001b[0;34m\u001b[0m\u001b[0;34m\u001b[0m\u001b[0m\n\u001b[1;32m    102\u001b[0m       \u001b[0mforce_remount\u001b[0m\u001b[0;34m=\u001b[0m\u001b[0mforce_remount\u001b[0m\u001b[0;34m,\u001b[0m\u001b[0;34m\u001b[0m\u001b[0;34m\u001b[0m\u001b[0m\n",
            "\u001b[0;32m/usr/local/lib/python3.10/dist-packages/google/colab/drive.py\u001b[0m in \u001b[0;36m_mount\u001b[0;34m(mountpoint, force_remount, timeout_ms, ephemeral, readonly)\u001b[0m\n\u001b[1;32m    135\u001b[0m   )\n\u001b[1;32m    136\u001b[0m   \u001b[0;32mif\u001b[0m \u001b[0mephemeral\u001b[0m\u001b[0;34m:\u001b[0m\u001b[0;34m\u001b[0m\u001b[0;34m\u001b[0m\u001b[0m\n\u001b[0;32m--> 137\u001b[0;31m     _message.blocking_request(\n\u001b[0m\u001b[1;32m    138\u001b[0m         \u001b[0;34m'request_auth'\u001b[0m\u001b[0;34m,\u001b[0m\u001b[0;34m\u001b[0m\u001b[0;34m\u001b[0m\u001b[0m\n\u001b[1;32m    139\u001b[0m         \u001b[0mrequest\u001b[0m\u001b[0;34m=\u001b[0m\u001b[0;34m{\u001b[0m\u001b[0;34m'authType'\u001b[0m\u001b[0;34m:\u001b[0m \u001b[0;34m'dfs_ephemeral'\u001b[0m\u001b[0;34m}\u001b[0m\u001b[0;34m,\u001b[0m\u001b[0;34m\u001b[0m\u001b[0;34m\u001b[0m\u001b[0m\n",
            "\u001b[0;32m/usr/local/lib/python3.10/dist-packages/google/colab/_message.py\u001b[0m in \u001b[0;36mblocking_request\u001b[0;34m(request_type, request, timeout_sec, parent)\u001b[0m\n\u001b[1;32m    174\u001b[0m       \u001b[0mrequest_type\u001b[0m\u001b[0;34m,\u001b[0m \u001b[0mrequest\u001b[0m\u001b[0;34m,\u001b[0m \u001b[0mparent\u001b[0m\u001b[0;34m=\u001b[0m\u001b[0mparent\u001b[0m\u001b[0;34m,\u001b[0m \u001b[0mexpect_reply\u001b[0m\u001b[0;34m=\u001b[0m\u001b[0;32mTrue\u001b[0m\u001b[0;34m\u001b[0m\u001b[0;34m\u001b[0m\u001b[0m\n\u001b[1;32m    175\u001b[0m   )\n\u001b[0;32m--> 176\u001b[0;31m   \u001b[0;32mreturn\u001b[0m \u001b[0mread_reply_from_input\u001b[0m\u001b[0;34m(\u001b[0m\u001b[0mrequest_id\u001b[0m\u001b[0;34m,\u001b[0m \u001b[0mtimeout_sec\u001b[0m\u001b[0;34m)\u001b[0m\u001b[0;34m\u001b[0m\u001b[0;34m\u001b[0m\u001b[0m\n\u001b[0m",
            "\u001b[0;32m/usr/local/lib/python3.10/dist-packages/google/colab/_message.py\u001b[0m in \u001b[0;36mread_reply_from_input\u001b[0;34m(message_id, timeout_sec)\u001b[0m\n\u001b[1;32m    101\u001b[0m     ):\n\u001b[1;32m    102\u001b[0m       \u001b[0;32mif\u001b[0m \u001b[0;34m'error'\u001b[0m \u001b[0;32min\u001b[0m \u001b[0mreply\u001b[0m\u001b[0;34m:\u001b[0m\u001b[0;34m\u001b[0m\u001b[0;34m\u001b[0m\u001b[0m\n\u001b[0;32m--> 103\u001b[0;31m         \u001b[0;32mraise\u001b[0m \u001b[0mMessageError\u001b[0m\u001b[0;34m(\u001b[0m\u001b[0mreply\u001b[0m\u001b[0;34m[\u001b[0m\u001b[0;34m'error'\u001b[0m\u001b[0;34m]\u001b[0m\u001b[0;34m)\u001b[0m\u001b[0;34m\u001b[0m\u001b[0;34m\u001b[0m\u001b[0m\n\u001b[0m\u001b[1;32m    104\u001b[0m       \u001b[0;32mreturn\u001b[0m \u001b[0mreply\u001b[0m\u001b[0;34m.\u001b[0m\u001b[0mget\u001b[0m\u001b[0;34m(\u001b[0m\u001b[0;34m'data'\u001b[0m\u001b[0;34m,\u001b[0m \u001b[0;32mNone\u001b[0m\u001b[0;34m)\u001b[0m\u001b[0;34m\u001b[0m\u001b[0;34m\u001b[0m\u001b[0m\n\u001b[1;32m    105\u001b[0m \u001b[0;34m\u001b[0m\u001b[0m\n",
            "\u001b[0;31mMessageError\u001b[0m: Error: credential propagation was unsuccessful"
          ]
        }
      ],
      "source": [
        "from google.colab import drive\n",
        "drive.mount('/content/drive')"
      ]
    },
    {
      "cell_type": "markdown",
      "metadata": {
        "id": "4f6oT0yynAzN"
      },
      "source": []
    },
    {
      "cell_type": "code",
      "execution_count": null,
      "metadata": {
        "id": "VE2qdFLLhrAv"
      },
      "outputs": [],
      "source": [
        "import matplotlib.pyplot as plt\n",
        "import os\n",
        "\n",
        "NUM_EXAMPLES = 5\n",
        "IMAGES_PATH = \"skripsi\"\n",
        "\n",
        "# Get the list of labels from the list of folder names.\n",
        "labels = []\n",
        "for i in os.listdir(IMAGES_PATH):\n",
        "  if os.path.isdir(os.path.join(IMAGES_PATH, i)):\n",
        "    labels.append(i)\n",
        "\n",
        "# Show the images.\n",
        "for label in labels:\n",
        "  label_dir = os.path.join(IMAGES_PATH, label)\n",
        "  example_filenames = os.listdir(label_dir)[:NUM_EXAMPLES]\n",
        "  fig, axs = plt.subplots(1, NUM_EXAMPLES, figsize=(10,2))\n",
        "  for i in range(NUM_EXAMPLES):\n",
        "    axs[i].imshow(plt.imread(os.path.join(label_dir, example_filenames[i])))\n",
        "    axs[i].get_xaxis().set_visible(False)\n",
        "    axs[i].get_yaxis().set_visible(False)\n",
        "  fig.suptitle(f'Showing {NUM_EXAMPLES} examples for {label}')\n",
        "\n",
        "plt.show()"
      ]
    },
    {
      "cell_type": "code",
      "execution_count": null,
      "metadata": {
        "colab": {
          "base_uri": "https://localhost:8080/"
        },
        "id": "ogT5azuhieLH",
        "outputId": "16ff370a-8fec-4699-dd68-e88609040d78"
      },
      "outputs": [
        {
          "name": "stdout",
          "output_type": "stream",
          "text": [
            "Downloading https://storage.googleapis.com/mediapipe-assets/palm_detection_full.tflite to /tmp/model_maker/gesture_recognizer/palm_detection_full.tflite\n",
            "Downloading https://storage.googleapis.com/mediapipe-assets/hand_landmark_full.tflite to /tmp/model_maker/gesture_recognizer/hand_landmark_full.tflite\n"
          ]
        },
        {
          "name": "stderr",
          "output_type": "stream",
          "text": [
            "/usr/local/lib/python3.10/dist-packages/google/protobuf/symbol_database.py:55: UserWarning: SymbolDatabase.GetPrototype() is deprecated. Please use message_factory.GetMessageClass() instead. SymbolDatabase.GetPrototype() will be removed soon.\n",
            "  warnings.warn('SymbolDatabase.GetPrototype() is deprecated. Please '\n"
          ]
        },
        {
          "name": "stdout",
          "output_type": "stream",
          "text": [
            "Downloading https://storage.googleapis.com/mediapipe-assets/gesture_embedder.tar.gz to /tmp/model_maker/gesture_recognizer/gesture_embedder\n"
          ]
        }
      ],
      "source": [
        "# Load the rock-paper-scissor image archive.\n",
        "data = gesture_recognizer.Dataset.from_folder(\n",
        "    dirname=IMAGES_PATH,\n",
        "    hparams=gesture_recognizer.HandDataPreprocessingParams()\n",
        ")\n",
        "\n",
        "# Split the archive into training, validation and test dataset.\n",
        "train_data, rest_data = data.split(0.8)\n",
        "validation_data, test_data = rest_data.split(0.5)"
      ]
    },
    {
      "cell_type": "code",
      "execution_count": null,
      "metadata": {
        "colab": {
          "base_uri": "https://localhost:8080/"
        },
        "id": "Z9blrlqh3NSK",
        "outputId": "d29c3d5d-cf65-47fc-b407-d8434b920048"
      },
      "outputs": [
        {
          "name": "stdout",
          "output_type": "stream",
          "text": [
            "Model: \"model\"\n",
            "_________________________________________________________________\n",
            " Layer (type)                Output Shape              Param #   \n",
            "=================================================================\n",
            " hand_embedding (InputLayer  [(None, 128)]             0         \n",
            " )                                                               \n",
            "                                                                 \n",
            " batch_normalization (Batch  (None, 128)               512       \n",
            " Normalization)                                                  \n",
            "                                                                 \n",
            " re_lu (ReLU)                (None, 128)               0         \n",
            "                                                                 \n",
            " dropout (Dropout)           (None, 128)               0         \n",
            "                                                                 \n",
            " custom_gesture_recognizer_  (None, 25)                3225      \n",
            " out (Dense)                                                     \n",
            "                                                                 \n",
            "=================================================================\n",
            "Total params: 3737 (14.60 KB)\n",
            "Trainable params: 3481 (13.60 KB)\n",
            "Non-trainable params: 256 (1.00 KB)\n",
            "_________________________________________________________________\n",
            "None\n",
            "Epoch 1/100\n",
            "117/117 [==============================] - 7s 53ms/step - loss: 3.1915 - categorical_accuracy: 0.0422 - val_loss: 3.6694 - val_categorical_accuracy: 0.0467 - lr: 0.0010\n",
            "Epoch 2/100\n",
            "117/117 [==============================] - 4s 35ms/step - loss: 3.0767 - categorical_accuracy: 0.0465 - val_loss: 3.5727 - val_categorical_accuracy: 0.0403 - lr: 9.9000e-04\n",
            "Epoch 3/100\n",
            "117/117 [==============================] - 4s 35ms/step - loss: 3.0213 - categorical_accuracy: 0.0491 - val_loss: 3.5044 - val_categorical_accuracy: 0.0488 - lr: 9.8010e-04\n",
            "Epoch 4/100\n",
            "117/117 [==============================] - 6s 52ms/step - loss: 2.9795 - categorical_accuracy: 0.0548 - val_loss: 3.4679 - val_categorical_accuracy: 0.0531 - lr: 9.7030e-04\n",
            "Epoch 5/100\n",
            "117/117 [==============================] - 4s 35ms/step - loss: 2.9408 - categorical_accuracy: 0.0601 - val_loss: 3.4315 - val_categorical_accuracy: 0.0594 - lr: 9.6060e-04\n",
            "Epoch 6/100\n",
            "117/117 [==============================] - 4s 35ms/step - loss: 2.9125 - categorical_accuracy: 0.0721 - val_loss: 3.4231 - val_categorical_accuracy: 0.0637 - lr: 9.5099e-04\n",
            "Epoch 7/100\n",
            "117/117 [==============================] - 6s 53ms/step - loss: 2.8935 - categorical_accuracy: 0.0700 - val_loss: 3.4172 - val_categorical_accuracy: 0.0594 - lr: 9.4148e-04\n",
            "Epoch 8/100\n",
            "117/117 [==============================] - 4s 36ms/step - loss: 2.8714 - categorical_accuracy: 0.0769 - val_loss: 3.4116 - val_categorical_accuracy: 0.0573 - lr: 9.3207e-04\n",
            "Epoch 9/100\n",
            "117/117 [==============================] - 4s 35ms/step - loss: 2.8557 - categorical_accuracy: 0.0839 - val_loss: 3.4163 - val_categorical_accuracy: 0.0425 - lr: 9.2274e-04\n",
            "Epoch 10/100\n",
            "117/117 [==============================] - 6s 51ms/step - loss: 2.8373 - categorical_accuracy: 0.0836 - val_loss: 3.4324 - val_categorical_accuracy: 0.0361 - lr: 9.1352e-04\n",
            "Epoch 11/100\n",
            "117/117 [==============================] - 4s 35ms/step - loss: 2.8193 - categorical_accuracy: 0.0916 - val_loss: 3.4387 - val_categorical_accuracy: 0.0382 - lr: 9.0438e-04\n",
            "Epoch 12/100\n",
            "117/117 [==============================] - 5s 39ms/step - loss: 2.8098 - categorical_accuracy: 0.0951 - val_loss: 3.4595 - val_categorical_accuracy: 0.0361 - lr: 8.9534e-04\n",
            "Epoch 13/100\n",
            "117/117 [==============================] - 5s 46ms/step - loss: 2.8002 - categorical_accuracy: 0.0911 - val_loss: 3.4704 - val_categorical_accuracy: 0.0297 - lr: 8.8638e-04\n",
            "Epoch 14/100\n",
            "117/117 [==============================] - 4s 36ms/step - loss: 2.7837 - categorical_accuracy: 0.1012 - val_loss: 3.4927 - val_categorical_accuracy: 0.0340 - lr: 8.7752e-04\n",
            "Epoch 15/100\n",
            "117/117 [==============================] - 7s 64ms/step - loss: 2.7748 - categorical_accuracy: 0.1095 - val_loss: 3.5204 - val_categorical_accuracy: 0.0361 - lr: 8.6875e-04\n",
            "Epoch 16/100\n",
            "117/117 [==============================] - 4s 36ms/step - loss: 2.7611 - categorical_accuracy: 0.1055 - val_loss: 3.5335 - val_categorical_accuracy: 0.0340 - lr: 8.6006e-04\n",
            "Epoch 17/100\n",
            "117/117 [==============================] - 5s 43ms/step - loss: 2.7525 - categorical_accuracy: 0.1068 - val_loss: 3.5665 - val_categorical_accuracy: 0.0318 - lr: 8.5146e-04\n",
            "Epoch 18/100\n",
            "117/117 [==============================] - 6s 53ms/step - loss: 2.7394 - categorical_accuracy: 0.1090 - val_loss: 3.5844 - val_categorical_accuracy: 0.0340 - lr: 8.4294e-04\n",
            "Epoch 19/100\n",
            "117/117 [==============================] - 4s 35ms/step - loss: 2.7371 - categorical_accuracy: 0.1194 - val_loss: 3.6195 - val_categorical_accuracy: 0.0318 - lr: 8.3451e-04\n",
            "Epoch 20/100\n",
            "117/117 [==============================] - 6s 52ms/step - loss: 2.7266 - categorical_accuracy: 0.1226 - val_loss: 3.6430 - val_categorical_accuracy: 0.0318 - lr: 8.2617e-04\n",
            "Epoch 21/100\n",
            "117/117 [==============================] - 4s 36ms/step - loss: 2.7168 - categorical_accuracy: 0.1175 - val_loss: 3.6626 - val_categorical_accuracy: 0.0340 - lr: 8.1791e-04\n",
            "Epoch 22/100\n",
            "117/117 [==============================] - 4s 36ms/step - loss: 2.7179 - categorical_accuracy: 0.1199 - val_loss: 3.7029 - val_categorical_accuracy: 0.0318 - lr: 8.0973e-04\n",
            "Epoch 23/100\n",
            "117/117 [==============================] - 6s 53ms/step - loss: 2.7012 - categorical_accuracy: 0.1242 - val_loss: 3.7251 - val_categorical_accuracy: 0.0318 - lr: 8.0163e-04\n",
            "Epoch 24/100\n",
            "117/117 [==============================] - 4s 36ms/step - loss: 2.6984 - categorical_accuracy: 0.1231 - val_loss: 3.7500 - val_categorical_accuracy: 0.0340 - lr: 7.9361e-04\n",
            "Epoch 25/100\n",
            "117/117 [==============================] - 4s 36ms/step - loss: 2.6953 - categorical_accuracy: 0.1245 - val_loss: 3.7802 - val_categorical_accuracy: 0.0340 - lr: 7.8568e-04\n",
            "Epoch 26/100\n",
            "117/117 [==============================] - 6s 53ms/step - loss: 2.6875 - categorical_accuracy: 0.1290 - val_loss: 3.7946 - val_categorical_accuracy: 0.0340 - lr: 7.7782e-04\n",
            "Epoch 27/100\n",
            "117/117 [==============================] - 4s 36ms/step - loss: 2.6854 - categorical_accuracy: 0.1341 - val_loss: 3.8203 - val_categorical_accuracy: 0.0318 - lr: 7.7004e-04\n",
            "Epoch 28/100\n",
            "117/117 [==============================] - 4s 36ms/step - loss: 2.6715 - categorical_accuracy: 0.1269 - val_loss: 3.8487 - val_categorical_accuracy: 0.0340 - lr: 7.6234e-04\n",
            "Epoch 29/100\n",
            "117/117 [==============================] - 6s 52ms/step - loss: 2.6675 - categorical_accuracy: 0.1362 - val_loss: 3.8803 - val_categorical_accuracy: 0.0318 - lr: 7.5472e-04\n",
            "Epoch 30/100\n",
            "117/117 [==============================] - 4s 35ms/step - loss: 2.6660 - categorical_accuracy: 0.1357 - val_loss: 3.8950 - val_categorical_accuracy: 0.0318 - lr: 7.4717e-04\n",
            "Epoch 31/100\n",
            "117/117 [==============================] - 5s 42ms/step - loss: 2.6566 - categorical_accuracy: 0.1346 - val_loss: 3.9109 - val_categorical_accuracy: 0.0318 - lr: 7.3970e-04\n",
            "Epoch 32/100\n",
            "117/117 [==============================] - 5s 46ms/step - loss: 2.6537 - categorical_accuracy: 0.1400 - val_loss: 3.9274 - val_categorical_accuracy: 0.0340 - lr: 7.3230e-04\n",
            "Epoch 33/100\n",
            "117/117 [==============================] - 4s 35ms/step - loss: 2.6469 - categorical_accuracy: 0.1362 - val_loss: 3.9611 - val_categorical_accuracy: 0.0318 - lr: 7.2498e-04\n",
            "Epoch 34/100\n",
            "117/117 [==============================] - 5s 44ms/step - loss: 2.6305 - categorical_accuracy: 0.1445 - val_loss: 4.0036 - val_categorical_accuracy: 0.0318 - lr: 7.1773e-04\n",
            "Epoch 35/100\n",
            "117/117 [==============================] - 6s 50ms/step - loss: 2.6393 - categorical_accuracy: 0.1392 - val_loss: 4.0103 - val_categorical_accuracy: 0.0318 - lr: 7.1055e-04\n",
            "Epoch 36/100\n",
            "117/117 [==============================] - 4s 36ms/step - loss: 2.6379 - categorical_accuracy: 0.1418 - val_loss: 4.0114 - val_categorical_accuracy: 0.0340 - lr: 7.0345e-04\n",
            "Epoch 37/100\n",
            "117/117 [==============================] - 6s 53ms/step - loss: 2.6297 - categorical_accuracy: 0.1408 - val_loss: 4.0375 - val_categorical_accuracy: 0.0318 - lr: 6.9641e-04\n",
            "Epoch 38/100\n",
            "117/117 [==============================] - 6s 53ms/step - loss: 2.6266 - categorical_accuracy: 0.1464 - val_loss: 4.0793 - val_categorical_accuracy: 0.0318 - lr: 6.8945e-04\n",
            "Epoch 39/100\n",
            "117/117 [==============================] - 5s 43ms/step - loss: 2.6186 - categorical_accuracy: 0.1432 - val_loss: 4.1016 - val_categorical_accuracy: 0.0318 - lr: 6.8255e-04\n",
            "Epoch 40/100\n",
            "117/117 [==============================] - 4s 36ms/step - loss: 2.6194 - categorical_accuracy: 0.1424 - val_loss: 4.1136 - val_categorical_accuracy: 0.0318 - lr: 6.7573e-04\n",
            "Epoch 41/100\n",
            "117/117 [==============================] - 6s 54ms/step - loss: 2.6194 - categorical_accuracy: 0.1493 - val_loss: 4.1159 - val_categorical_accuracy: 0.0318 - lr: 6.6897e-04\n",
            "Epoch 42/100\n",
            "117/117 [==============================] - 4s 35ms/step - loss: 2.6141 - categorical_accuracy: 0.1461 - val_loss: 4.1524 - val_categorical_accuracy: 0.0340 - lr: 6.6228e-04\n",
            "Epoch 43/100\n",
            "117/117 [==============================] - 4s 37ms/step - loss: 2.6122 - categorical_accuracy: 0.1525 - val_loss: 4.1682 - val_categorical_accuracy: 0.0318 - lr: 6.5566e-04\n",
            "Epoch 44/100\n",
            "117/117 [==============================] - 6s 53ms/step - loss: 2.6111 - categorical_accuracy: 0.1480 - val_loss: 4.2187 - val_categorical_accuracy: 0.0340 - lr: 6.4910e-04\n",
            "Epoch 45/100\n",
            "117/117 [==============================] - 4s 36ms/step - loss: 2.5982 - categorical_accuracy: 0.1472 - val_loss: 4.2204 - val_categorical_accuracy: 0.0318 - lr: 6.4261e-04\n",
            "Epoch 46/100\n",
            "117/117 [==============================] - 4s 36ms/step - loss: 2.5995 - categorical_accuracy: 0.1522 - val_loss: 4.2720 - val_categorical_accuracy: 0.0340 - lr: 6.3619e-04\n",
            "Epoch 47/100\n",
            "117/117 [==============================] - 6s 54ms/step - loss: 2.5948 - categorical_accuracy: 0.1480 - val_loss: 4.2605 - val_categorical_accuracy: 0.0340 - lr: 6.2982e-04\n",
            "Epoch 48/100\n",
            "117/117 [==============================] - 4s 36ms/step - loss: 2.5971 - categorical_accuracy: 0.1485 - val_loss: 4.2511 - val_categorical_accuracy: 0.0361 - lr: 6.2353e-04\n",
            "Epoch 49/100\n",
            "117/117 [==============================] - 5s 43ms/step - loss: 2.5909 - categorical_accuracy: 0.1437 - val_loss: 4.2939 - val_categorical_accuracy: 0.0318 - lr: 6.1729e-04\n",
            "Epoch 50/100\n",
            "117/117 [==============================] - 4s 37ms/step - loss: 2.5949 - categorical_accuracy: 0.1541 - val_loss: 4.3295 - val_categorical_accuracy: 0.0361 - lr: 6.1112e-04\n",
            "Epoch 51/100\n",
            "117/117 [==============================] - 6s 53ms/step - loss: 2.5856 - categorical_accuracy: 0.1474 - val_loss: 4.3730 - val_categorical_accuracy: 0.0318 - lr: 6.0501e-04\n",
            "Epoch 52/100\n",
            "117/117 [==============================] - 4s 37ms/step - loss: 2.5784 - categorical_accuracy: 0.1464 - val_loss: 4.3771 - val_categorical_accuracy: 0.0297 - lr: 5.9896e-04\n",
            "Epoch 53/100\n",
            "117/117 [==============================] - 4s 36ms/step - loss: 2.5775 - categorical_accuracy: 0.1520 - val_loss: 4.4017 - val_categorical_accuracy: 0.0340 - lr: 5.9297e-04\n",
            "Epoch 54/100\n",
            "117/117 [==============================] - 6s 54ms/step - loss: 2.5778 - categorical_accuracy: 0.1501 - val_loss: 4.4207 - val_categorical_accuracy: 0.0318 - lr: 5.8704e-04\n",
            "Epoch 55/100\n",
            "117/117 [==============================] - 4s 37ms/step - loss: 2.5706 - categorical_accuracy: 0.1533 - val_loss: 4.4323 - val_categorical_accuracy: 0.0318 - lr: 5.8117e-04\n",
            "Epoch 56/100\n",
            "117/117 [==============================] - 4s 36ms/step - loss: 2.5775 - categorical_accuracy: 0.1498 - val_loss: 4.4633 - val_categorical_accuracy: 0.0318 - lr: 5.7535e-04\n",
            "Epoch 57/100\n",
            "117/117 [==============================] - 6s 53ms/step - loss: 2.5801 - categorical_accuracy: 0.1573 - val_loss: 4.4803 - val_categorical_accuracy: 0.0361 - lr: 5.6960e-04\n",
            "Epoch 58/100\n",
            "117/117 [==============================] - 4s 36ms/step - loss: 2.5646 - categorical_accuracy: 0.1538 - val_loss: 4.4680 - val_categorical_accuracy: 0.0361 - lr: 5.6391e-04\n",
            "Epoch 59/100\n",
            "117/117 [==============================] - 5s 41ms/step - loss: 2.5718 - categorical_accuracy: 0.1552 - val_loss: 4.4910 - val_categorical_accuracy: 0.0361 - lr: 5.5827e-04\n",
            "Epoch 60/100\n",
            "117/117 [==============================] - 6s 49ms/step - loss: 2.5665 - categorical_accuracy: 0.1581 - val_loss: 4.4903 - val_categorical_accuracy: 0.0318 - lr: 5.5268e-04\n",
            "Epoch 61/100\n",
            "117/117 [==============================] - 4s 37ms/step - loss: 2.5663 - categorical_accuracy: 0.1501 - val_loss: 4.4839 - val_categorical_accuracy: 0.0340 - lr: 5.4716e-04\n",
            "Epoch 62/100\n",
            "117/117 [==============================] - 8s 65ms/step - loss: 2.5597 - categorical_accuracy: 0.1538 - val_loss: 4.4844 - val_categorical_accuracy: 0.0340 - lr: 5.4169e-04\n",
            "Epoch 63/100\n",
            "117/117 [==============================] - 4s 36ms/step - loss: 2.5617 - categorical_accuracy: 0.1477 - val_loss: 4.5141 - val_categorical_accuracy: 0.0340 - lr: 5.3627e-04\n",
            "Epoch 64/100\n",
            "117/117 [==============================] - 5s 40ms/step - loss: 2.5693 - categorical_accuracy: 0.1506 - val_loss: 4.5737 - val_categorical_accuracy: 0.0340 - lr: 5.3091e-04\n",
            "Epoch 65/100\n",
            "117/117 [==============================] - 6s 48ms/step - loss: 2.5608 - categorical_accuracy: 0.1635 - val_loss: 4.5064 - val_categorical_accuracy: 0.0340 - lr: 5.2560e-04\n",
            "Epoch 66/100\n",
            "117/117 [==============================] - 4s 37ms/step - loss: 2.5595 - categorical_accuracy: 0.1533 - val_loss: 4.5691 - val_categorical_accuracy: 0.0361 - lr: 5.2034e-04\n",
            "Epoch 67/100\n",
            "117/117 [==============================] - 7s 64ms/step - loss: 2.5509 - categorical_accuracy: 0.1613 - val_loss: 4.5697 - val_categorical_accuracy: 0.0318 - lr: 5.1514e-04\n",
            "Epoch 68/100\n",
            "117/117 [==============================] - 4s 36ms/step - loss: 2.5426 - categorical_accuracy: 0.1589 - val_loss: 4.5762 - val_categorical_accuracy: 0.0340 - lr: 5.0999e-04\n",
            "Epoch 69/100\n",
            "117/117 [==============================] - 5s 43ms/step - loss: 2.5535 - categorical_accuracy: 0.1538 - val_loss: 4.5773 - val_categorical_accuracy: 0.0318 - lr: 5.0489e-04\n",
            "Epoch 70/100\n",
            "117/117 [==============================] - 5s 46ms/step - loss: 2.5541 - categorical_accuracy: 0.1605 - val_loss: 4.6235 - val_categorical_accuracy: 0.0340 - lr: 4.9984e-04\n",
            "Epoch 71/100\n",
            "117/117 [==============================] - 4s 36ms/step - loss: 2.5584 - categorical_accuracy: 0.1587 - val_loss: 4.5975 - val_categorical_accuracy: 0.0340 - lr: 4.9484e-04\n",
            "Epoch 72/100\n",
            "117/117 [==============================] - 6s 48ms/step - loss: 2.5430 - categorical_accuracy: 0.1613 - val_loss: 4.6034 - val_categorical_accuracy: 0.0361 - lr: 4.8989e-04\n",
            "Epoch 73/100\n",
            "117/117 [==============================] - 4s 37ms/step - loss: 2.5465 - categorical_accuracy: 0.1509 - val_loss: 4.6232 - val_categorical_accuracy: 0.0361 - lr: 4.8499e-04\n",
            "Epoch 74/100\n",
            "117/117 [==============================] - 6s 53ms/step - loss: 2.5448 - categorical_accuracy: 0.1587 - val_loss: 4.6444 - val_categorical_accuracy: 0.0318 - lr: 4.8014e-04\n",
            "Epoch 75/100\n",
            "117/117 [==============================] - 5s 43ms/step - loss: 2.5371 - categorical_accuracy: 0.1592 - val_loss: 4.6306 - val_categorical_accuracy: 0.0340 - lr: 4.7534e-04\n",
            "Epoch 76/100\n",
            "117/117 [==============================] - 5s 43ms/step - loss: 2.5477 - categorical_accuracy: 0.1611 - val_loss: 4.6633 - val_categorical_accuracy: 0.0340 - lr: 4.7059e-04\n",
            "Epoch 77/100\n",
            "117/117 [==============================] - 6s 53ms/step - loss: 2.5404 - categorical_accuracy: 0.1627 - val_loss: 4.6426 - val_categorical_accuracy: 0.0318 - lr: 4.6588e-04\n",
            "Epoch 78/100\n",
            "117/117 [==============================] - 4s 35ms/step - loss: 2.5343 - categorical_accuracy: 0.1584 - val_loss: 4.6491 - val_categorical_accuracy: 0.0340 - lr: 4.6122e-04\n",
            "Epoch 79/100\n",
            "117/117 [==============================] - 6s 54ms/step - loss: 2.5310 - categorical_accuracy: 0.1603 - val_loss: 4.6414 - val_categorical_accuracy: 0.0340 - lr: 4.5661e-04\n",
            "Epoch 80/100\n",
            "117/117 [==============================] - 4s 36ms/step - loss: 2.5484 - categorical_accuracy: 0.1624 - val_loss: 4.6694 - val_categorical_accuracy: 0.0361 - lr: 4.5204e-04\n",
            "Epoch 81/100\n",
            "117/117 [==============================] - 4s 37ms/step - loss: 2.5323 - categorical_accuracy: 0.1707 - val_loss: 4.6841 - val_categorical_accuracy: 0.0318 - lr: 4.4752e-04\n",
            "Epoch 82/100\n",
            "117/117 [==============================] - 6s 53ms/step - loss: 2.5266 - categorical_accuracy: 0.1675 - val_loss: 4.6853 - val_categorical_accuracy: 0.0340 - lr: 4.4305e-04\n",
            "Epoch 83/100\n",
            "117/117 [==============================] - 4s 37ms/step - loss: 2.5324 - categorical_accuracy: 0.1603 - val_loss: 4.7024 - val_categorical_accuracy: 0.0318 - lr: 4.3862e-04\n",
            "Epoch 84/100\n",
            "117/117 [==============================] - 4s 36ms/step - loss: 2.5343 - categorical_accuracy: 0.1616 - val_loss: 4.6887 - val_categorical_accuracy: 0.0340 - lr: 4.3423e-04\n",
            "Epoch 85/100\n",
            "117/117 [==============================] - 6s 51ms/step - loss: 2.5344 - categorical_accuracy: 0.1640 - val_loss: 4.6965 - val_categorical_accuracy: 0.0318 - lr: 4.2989e-04\n",
            "Epoch 86/100\n",
            "117/117 [==============================] - 4s 36ms/step - loss: 2.5363 - categorical_accuracy: 0.1597 - val_loss: 4.7178 - val_categorical_accuracy: 0.0297 - lr: 4.2559e-04\n",
            "Epoch 87/100\n",
            "117/117 [==============================] - 5s 39ms/step - loss: 2.5320 - categorical_accuracy: 0.1621 - val_loss: 4.7344 - val_categorical_accuracy: 0.0276 - lr: 4.2133e-04\n",
            "Epoch 88/100\n",
            "117/117 [==============================] - 6s 49ms/step - loss: 2.5269 - categorical_accuracy: 0.1635 - val_loss: 4.7745 - val_categorical_accuracy: 0.0297 - lr: 4.1712e-04\n",
            "Epoch 89/100\n",
            "117/117 [==============================] - 4s 37ms/step - loss: 2.5310 - categorical_accuracy: 0.1696 - val_loss: 4.7992 - val_categorical_accuracy: 0.0297 - lr: 4.1295e-04\n",
            "Epoch 90/100\n",
            "117/117 [==============================] - 5s 44ms/step - loss: 2.5367 - categorical_accuracy: 0.1595 - val_loss: 4.7581 - val_categorical_accuracy: 0.0318 - lr: 4.0882e-04\n",
            "Epoch 91/100\n",
            "117/117 [==============================] - 5s 44ms/step - loss: 2.5305 - categorical_accuracy: 0.1595 - val_loss: 4.7717 - val_categorical_accuracy: 0.0297 - lr: 4.0473e-04\n",
            "Epoch 92/100\n",
            "117/117 [==============================] - 4s 36ms/step - loss: 2.5278 - categorical_accuracy: 0.1616 - val_loss: 4.7703 - val_categorical_accuracy: 0.0297 - lr: 4.0068e-04\n",
            "Epoch 93/100\n",
            "117/117 [==============================] - 8s 65ms/step - loss: 2.5282 - categorical_accuracy: 0.1696 - val_loss: 4.8129 - val_categorical_accuracy: 0.0318 - lr: 3.9668e-04\n",
            "Epoch 94/100\n",
            "117/117 [==============================] - 4s 36ms/step - loss: 2.5262 - categorical_accuracy: 0.1595 - val_loss: 4.7877 - val_categorical_accuracy: 0.0318 - lr: 3.9271e-04\n",
            "Epoch 95/100\n",
            "117/117 [==============================] - 5s 43ms/step - loss: 2.5200 - categorical_accuracy: 0.1680 - val_loss: 4.7793 - val_categorical_accuracy: 0.0297 - lr: 3.8878e-04\n",
            "Epoch 96/100\n",
            "117/117 [==============================] - 4s 36ms/step - loss: 2.5264 - categorical_accuracy: 0.1677 - val_loss: 4.8094 - val_categorical_accuracy: 0.0318 - lr: 3.8490e-04\n",
            "Epoch 97/100\n",
            "117/117 [==============================] - 5s 45ms/step - loss: 2.5259 - categorical_accuracy: 0.1661 - val_loss: 4.8277 - val_categorical_accuracy: 0.0318 - lr: 3.8105e-04\n",
            "Epoch 98/100\n",
            "117/117 [==============================] - 6s 51ms/step - loss: 2.5230 - categorical_accuracy: 0.1672 - val_loss: 4.8230 - val_categorical_accuracy: 0.0297 - lr: 3.7724e-04\n",
            "Epoch 99/100\n",
            "117/117 [==============================] - 4s 36ms/step - loss: 2.5329 - categorical_accuracy: 0.1627 - val_loss: 4.8363 - val_categorical_accuracy: 0.0318 - lr: 3.7346e-04\n",
            "Epoch 100/100\n",
            "117/117 [==============================] - 6s 53ms/step - loss: 2.5085 - categorical_accuracy: 0.1685 - val_loss: 4.8600 - val_categorical_accuracy: 0.0297 - lr: 3.6973e-04\n"
          ]
        }
      ],
      "source": [
        "# Train the model\n",
        "hparams = gesture_recognizer.HParams(epochs=100, batch_size=32, export_dir=\"sibi_model\")\n",
        "options = gesture_recognizer.GestureRecognizerOptions(hparams=hparams)\n",
        "model = gesture_recognizer.GestureRecognizer.create(\n",
        "    train_data=train_data,\n",
        "    validation_data=validation_data,\n",
        "    options=options\n",
        ")"
      ]
    },
    {
      "cell_type": "code",
      "execution_count": null,
      "metadata": {
        "colab": {
          "base_uri": "https://localhost:8080/"
        },
        "id": "dmeytuX83NYu",
        "outputId": "b1b7a6fb-e3c7-4108-a1bd-16e81c7ab82f"
      },
      "outputs": [
        {
          "name": "stdout",
          "output_type": "stream",
          "text": [
            "472/472 [==============================] - 3s 2ms/step - loss: 4.1269 - categorical_accuracy: 0.0360\n",
            "Test loss:4.126893043518066, Test accuracy:0.03601694852113724\n"
          ]
        }
      ],
      "source": [
        "loss, acc = model.evaluate(test_data, batch_size=1)\n",
        "print(f\"Test loss:{loss}, Test accuracy:{acc}\")"
      ]
    },
    {
      "cell_type": "code",
      "execution_count": null,
      "metadata": {
        "id": "Ef0ypLAWpzYj"
      },
      "outputs": [],
      "source": [
        "# Export the model bundle.\n",
        "model.export_model()\n",
        "\n",
        "# Rename the file to be more descriptive.\n",
        "!mv sibi_model/gesture_recognizer.task gesture_recognizer.task"
      ]
    }
  ],
  "metadata": {
    "colab": {
      "provenance": []
    },
    "kernelspec": {
      "display_name": "Python 3",
      "name": "python3"
    },
    "language_info": {
      "name": "python"
    }
  },
  "nbformat": 4,
  "nbformat_minor": 0
}